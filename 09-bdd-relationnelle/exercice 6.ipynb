{
 "cells": [
  {
   "cell_type": "markdown",
   "metadata": {
    "toc": true
   },
   "source": [
    "<h1>Table of Contents<span class=\"tocSkip\"></span></h1>\n",
    "<div class=\"toc\"><ul class=\"toc-item\"><li><span><a href=\"#Tester-des-contraintes-d'intégrité-\" data-toc-modified-id=\"Tester-des-contraintes-d'intégrité--1\"><span class=\"toc-item-num\">1&nbsp;&nbsp;</span>Tester des contraintes d'intégrité </a></span><ul class=\"toc-item\"><li><span><a href=\"#Création-de-la-base-de-données-en-mémoire\" data-toc-modified-id=\"Création-de-la-base-de-données-en-mémoire-1.1\"><span class=\"toc-item-num\">1.1&nbsp;&nbsp;</span>Création de la base de données en mémoire</a></span></li><li><span><a href=\"#Test-de-requêtes\" data-toc-modified-id=\"Test-de-requêtes-1.2\"><span class=\"toc-item-num\">1.2&nbsp;&nbsp;</span>Test de requêtes</a></span></li><li><span><a href=\"#Test-des-contraintes-d'intégrité\" data-toc-modified-id=\"Test-des-contraintes-d'intégrité-1.3\"><span class=\"toc-item-num\">1.3&nbsp;&nbsp;</span>Test des contraintes d'intégrité</a></span></li><li><span><a href=\"#Exercice-:-transformer-la-base-\" data-toc-modified-id=\"Exercice-:-transformer-la-base--1.4\"><span class=\"toc-item-num\">1.4&nbsp;&nbsp;</span>Exercice : transformer la base </a></span></li><li><span><a href=\"#Fermeture-de-la-base-\" data-toc-modified-id=\"Fermeture-de-la-base--1.5\"><span class=\"toc-item-num\">1.5&nbsp;&nbsp;</span>Fermeture de la base </a></span></li></ul></li></ul></div>"
   ]
  },
  {
   "cell_type": "markdown",
   "metadata": {},
   "source": [
    "<h2>Tester des contraintes d'intégrité </h2>"
   ]
  },
  {
   "cell_type": "markdown",
   "metadata": {},
   "source": [
    "<h3>Création de la base de données en mémoire</h3>"
   ]
  },
  {
   "cell_type": "code",
   "execution_count": null,
   "metadata": {},
   "outputs": [],
   "source": [
    "# coding: utf-8\n",
    "\n",
    "import sqlite3\n",
    "bdd=sqlite3.connect(\":memory:\") # La base est en mémoire\n",
    "                    \n",
    "# Pour utiliser un fichier, il faut le nommer. Il sera enregistré  \n",
    "                    \n",
    "curseur = bdd.cursor () # création d'un cuseur\n",
    "\n",
    "curseur.execute(\"PRAGMA foreign_keys = ON\") # Active les clés étrangères\n",
    "\n",
    "# création des tables\n",
    "\n",
    "curseur.executescript(\"\"\"\n",
    "CREATE TABLE joueur (\n",
    "  idJoueur INT PRIMARY KEY,\n",
    "  nomJoueur VARCHAR(30) NOT nULL,\n",
    "  pnomJoueur VARCHAR(30) NOT NULL\n",
    ");\n",
    "\n",
    "CREATE TABLE partie(\n",
    "    idpartie INT PRIMARY KEY,\n",
    "    idJoueur1 INT REFERENCES joueur(idjoueur),\n",
    "    idJoueur2 INT REFERENCES joueur(idjoueur),\n",
    "    score1 INT NOT NULL,\n",
    "    score2 INT NOT NULL,\n",
    "    CHECK((idjoueur1 <>idjoueur2)) );\n",
    "\"\"\")\n",
    "\n",
    "bdd.commit()\n",
    "\n",
    "# Alimentation des tables\n",
    "\n",
    "data_joueur=[\n",
    "    (1,'Terez','Pascual'),\n",
    "    (2,'Melusine','Enfaillite'),\n",
    "    (3,'Leponge','Bob'),\n",
    "    (4,'Kalité','Filtre'),\n",
    "    (5,'Gosse','Bo')\n",
    "]\n",
    "\n",
    "data_partie=[\n",
    "    (1,1,2,54,45),\n",
    "    (2,1,3,45,85),\n",
    "    (3,4,5,96,35),\n",
    "]\n",
    "\n",
    "for donnees in data_joueur : \n",
    "    curseur.execute(\"\"\" INSERT INTO joueur (idjoueur,nomJoueur,pnomJoueur) VALUES(?,?,?)\n",
    "    \"\"\",donnees)\n",
    "    \n",
    "bdd.commit()\n",
    "\n",
    "for donnees in data_partie : \n",
    "    curseur.execute(\"\"\" INSERT INTO partie (idpartie,idjoueur1,idjoueur2,score1,score2) VALUES(?,?,?,?,?)\n",
    "    \"\"\",donnees)\n",
    "    \n",
    "bdd.commit()"
   ]
  },
  {
   "cell_type": "markdown",
   "metadata": {},
   "source": [
    "<h3>Test de requêtes</h3>"
   ]
  },
  {
   "cell_type": "code",
   "execution_count": null,
   "metadata": {},
   "outputs": [],
   "source": [
    "requete = \" SELECT * FROM partie\" \n",
    "curseur.execute(requete)\n",
    "\n",
    "# Affichage des résultats\n",
    "\n",
    "for element in curseur:\n",
    "    print(element)"
   ]
  },
  {
   "cell_type": "code",
   "execution_count": null,
   "metadata": {},
   "outputs": [],
   "source": [
    "requete = \" SELECT * FROM joueur\"  \n",
    "curseur.execute(requete)\n",
    "\n",
    "# Affichage des résultats\n",
    "\n",
    "for element in curseur :\n",
    "    print(element)"
   ]
  },
  {
   "cell_type": "markdown",
   "metadata": {},
   "source": [
    "<h3>Test des contraintes d'intégrité</h3>"
   ]
  },
  {
   "cell_type": "markdown",
   "metadata": {},
   "source": [
    "<p>\n",
    "Observer toutes les contraintes d'intégrité et proposer des ordres (avec insert) qui contredisent ces contraintes.\n",
    "</p>"
   ]
  },
  {
   "cell_type": "code",
   "execution_count": null,
   "metadata": {},
   "outputs": [],
   "source": []
  },
  {
   "cell_type": "code",
   "execution_count": null,
   "metadata": {},
   "outputs": [],
   "source": []
  },
  {
   "cell_type": "code",
   "execution_count": null,
   "metadata": {},
   "outputs": [],
   "source": []
  },
  {
   "cell_type": "markdown",
   "metadata": {},
   "source": [
    "<h3>Exercice : transformer la base </h3\n",
    "   "
   ]
  },
  {
   "cell_type": "markdown",
   "metadata": {},
   "source": [
    "<p>Modifier la table 'Partie' pour insérer un attribut idvainqueur qui soit une clé étrangère reliée à l'attribut idjoueur de la table 'Joueur'<p>\n",
    "<p>Modifier les données 'data_partie' pour prendre en compte ce nouvel attribut.<p>"
   ]
  },
  {
   "cell_type": "markdown",
   "metadata": {},
   "source": [
    "<h3>Fermeture de la base </h3>"
   ]
  },
  {
   "cell_type": "code",
   "execution_count": null,
   "metadata": {},
   "outputs": [],
   "source": [
    "curseur.close()\n",
    "bdd.close() # Déconnexion"
   ]
  }
 ],
 "metadata": {
  "hide_input": false,
  "kernelspec": {
   "display_name": "Python 3",
   "language": "python",
   "name": "python3"
  },
  "language_info": {
   "codemirror_mode": {
    "name": "ipython",
    "version": 3
   },
   "file_extension": ".py",
   "mimetype": "text/x-python",
   "name": "python",
   "nbconvert_exporter": "python",
   "pygments_lexer": "ipython3",
   "version": "3.8.5"
  },
  "latex_envs": {
   "LaTeX_envs_menu_present": true,
   "autoclose": false,
   "autocomplete": true,
   "bibliofile": "biblio.bib",
   "cite_by": "apalike",
   "current_citInitial": 1,
   "eqLabelWithNumbers": true,
   "eqNumInitial": 1,
   "hotkeys": {
    "equation": "Ctrl-E",
    "itemize": "Ctrl-I"
   },
   "labels_anchors": false,
   "latex_user_defs": false,
   "report_style_numbering": false,
   "user_envs_cfg": false
  },
  "toc": {
   "base_numbering": 1,
   "nav_menu": {},
   "number_sections": true,
   "sideBar": true,
   "skip_h1_title": true,
   "title_cell": "Table of Contents",
   "title_sidebar": "Contents",
   "toc_cell": true,
   "toc_position": {},
   "toc_section_display": true,
   "toc_window_display": false
  }
 },
 "nbformat": 4,
 "nbformat_minor": 2
}
