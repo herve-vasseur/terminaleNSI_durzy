{
 "cells": [
  {
   "cell_type": "code",
   "execution_count": null,
   "metadata": {},
   "outputs": [],
   "source": [
    "import sqlite3\n",
    "\n",
    "bdd = sqlite3.connect(\":memory:\") #BDD dans la RAM\n",
    "\n",
    "curseur = bdd.cursor() # Récupération d'un curseur, méthode qui permet de parcourir la base de données"
   ]
  },
  {
   "cell_type": "code",
   "execution_count": null,
   "metadata": {},
   "outputs": [],
   "source": [
    "# création des tables\n",
    "\n",
    "curseur.execute(\"\"\"\n",
    "CREATE TABLE IF NOT EXISTS Artiste(\n",
    "  idArtiste int(11) NOT NULL,\n",
    "  'nom' varchar(30) NOT NULL,\n",
    "  'prénom' varchar(30) NOT NULL,\n",
    "  'annéeNaiss' int(11) DEFAULT NULL,\n",
    "  PRIMARY KEY ('idArtiste'))\n",
    "\"\"\")\n",
    "\n",
    "bdd.commit() # Soumettre l'ordre"
   ]
  },
  {
   "cell_type": "code",
   "execution_count": null,
   "metadata": {},
   "outputs": [],
   "source": [
    "# Alimentation de la base à partir d'une liste\n",
    "\n",
    "data_artists = [(1, 'Lucas', 'George', 1944),\n",
    "                (2, 'Hamill', 'Mark', 1951),\n",
    "                (3, 'Ford', 'Harrison', 1942),\n",
    "                (4, 'Fisher', 'Carrie', 1956),\n",
    "                (5, 'Cushing', 'Peter', 1913),\n",
    "                (6, 'Daniels', 'Anthony', 1946),\n",
    "                (13, 'Brooks', 'Albert', 1947),\n",
    "                (31, 'Hanks', 'Tom', 1956),\n",
    "                (32, 'Wright', 'Robin', 1966),\n",
    "                (39, 'Mendes', 'Sam', 1965),\n",
    "                (40, 'Welles', 'Orson', 1915),\n",
    "                (42, 'von Trier', 'Lars', 1956),\n",
    "                (49, 'Bello', 'Maria', 1967),\n",
    "                (50, 'Deneuve', 'Catherine', 1943),\n",
    "                (53, 'Stormare', 'Peter', 1953),\n",
    "                (62, 'Willis', 'Bruce', 1955),\n",
    "                (64, 'Oldman', 'Gary', 1958),\n",
    "                (65, 'Holm', 'Ian', 1931),\n",
    "                (66, 'Tucker', 'Chris', 1971)]\n",
    "\n",
    "for donnees in data_artists:\n",
    "    curseur.execute(\"\"\"INSERT INTO Artiste('idArtiste', 'nom', 'prénom', 'annéeNaiss') VALUES(?,?,?,?)\"\"\",donnees)\n",
    "\n",
    "bdd.commit()"
   ]
  },
  {
   "cell_type": "code",
   "execution_count": null,
   "metadata": {},
   "outputs": [],
   "source": [
    "requete = \"SELECT * FROM Artiste\"  # Notre requête, afficher tous les artistes de la table Artiste\n",
    "curseur.execute(requete)"
   ]
  },
  {
   "cell_type": "code",
   "execution_count": null,
   "metadata": {},
   "outputs": [],
   "source": [
    "# Affichage des résultats\n",
    "\n",
    "for element in curseur :\n",
    "    print(element)"
   ]
  },
  {
   "cell_type": "code",
   "execution_count": null,
   "metadata": {},
   "outputs": [],
   "source": [
    "curseur.close()\n",
    "bdd.close() #Déconnexion"
   ]
  }
 ],
 "metadata": {
  "kernelspec": {
   "display_name": "Python 3",
   "language": "python",
   "name": "python3"
  },
  "language_info": {
   "codemirror_mode": {
    "name": "ipython",
    "version": 3
   },
   "file_extension": ".py",
   "mimetype": "text/x-python",
   "name": "python",
   "nbconvert_exporter": "python",
   "pygments_lexer": "ipython3",
   "version": "3.8.5"
  }
 },
 "nbformat": 4,
 "nbformat_minor": 4
}
