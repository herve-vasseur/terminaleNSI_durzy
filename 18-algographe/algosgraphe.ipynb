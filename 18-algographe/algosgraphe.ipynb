{
 "cells": [
  {
   "cell_type": "markdown",
   "metadata": {},
   "source": [
    "## Algorithme de recherche d'un chemin\n",
    "\n",
    "1) Algorithme en profondeur itératif de recherche d'un chemin"
   ]
  },
  {
   "cell_type": "code",
   "execution_count": null,
   "metadata": {},
   "outputs": [],
   "source": [
    "def unchemin_dfsi(graphe, depart, arrivee):\n",
    "    \"\"\" En utilisant un parcours en profondeur itératif\n",
    "        algorithme qui renvoie le premier chemin trouvé\n",
    "        reliant le depart à l'arrivee\n",
    "    \"\"\"\n",
    "    chemin = [depart]\n",
    "    pile = [chemin]\n",
    "    while len(pile)>0:\n",
    "        chemin = pile.pop()\n",
    "        sommet = chemin[-1]\n",
    "        for voisin in graphe[sommet]:\n",
    "            if voisin==arrivee:\n",
    "                return chemin+[voisin]\n",
    "            if voisin not in chemin:\n",
    "                pile.append(chemin+[voisin])\n",
    "    return None"
   ]
  },
  {
   "cell_type": "markdown",
   "metadata": {},
   "source": [
    "2) Algortihme en profondeur récursif de recherche d'un chemin"
   ]
  },
  {
   "cell_type": "code",
   "execution_count": null,
   "metadata": {},
   "outputs": [],
   "source": [
    "def unchemin_dfsr(graphe, depart, arrivee, chemin=[], trouve=[]):\n",
    "    \"\"\" En utilisant un parcours en profondeur récursif\n",
    "        algorithme qui renvoie le premier chemin trouvé\n",
    "        reliant le depart à l'arrivee\n",
    "    \"\"\"\n",
    "    if len(chemin)==0:\n",
    "        chemin = [depart]\n",
    "    for voisin in graphe[depart]:\n",
    "        if len(trouve)==0:\n",
    "            if voisin == arrivee:\n",
    "                trouve.append(chemin+[voisin])\n",
    "            if voisin not in chemin:\n",
    "                unchemin_dfsr(graphe, voisin, arrivee, chemin+[voisin],\n",
    "                              trouve)\n",
    "    return trouve[0]"
   ]
  },
  {
   "cell_type": "markdown",
   "metadata": {},
   "source": [
    "3) Algorithme en largeur de recherche d'un chemin"
   ]
  },
  {
   "cell_type": "code",
   "execution_count": null,
   "metadata": {},
   "outputs": [],
   "source": [
    "def unchemin_bfs(graphe, depart, arrivee):\n",
    "    \"\"\" En utilisant un parcours en largeur (itératif)\n",
    "        algorithme qui renvoie le premier chemin trouvé\n",
    "        reliant le depart à l'arrivee\n",
    "    \"\"\"\n",
    "    chemin = [depart]\n",
    "    file = [chemin]\n",
    "    while len(file)>0:\n",
    "        chemin = file.pop(0)\n",
    "        sommet = chemin[-1]\n",
    "        for voisin in graphe[sommet]:\n",
    "            if voisin==arrivee:\n",
    "                return chemin+[voisin]\n",
    "            if voisin not in chemin:\n",
    "                file.append(chemin+[voisin])\n",
    "    return None"
   ]
  },
  {
   "cell_type": "markdown",
   "metadata": {},
   "source": [
    "## Algorithme de recherche du plus court chemin\n",
    "\n",
    "Une première idée naïve peut être de chercher tous les chemins, puis de déterminer dans cette liste le plus court. Par exemple :\n",
    "\n",
    "Algorithme en profondeur itératif de recherche de tous les chemins"
   ]
  },
  {
   "cell_type": "code",
   "execution_count": null,
   "metadata": {},
   "outputs": [],
   "source": [
    "def tousleschemins_dfsi(graphe, depart, arrivee):\n",
    "    \"\"\" En utilisant un parcours en profondeur itératif\n",
    "        algorithme qui renvoie tous les chemins\n",
    "        reliant le depart à l'arrivee\n",
    "    \"\"\"\n",
    "    chemins = []\n",
    "    chemin = [depart]\n",
    "    pile = [chemin]\n",
    "    while len(pile)>0:\n",
    "        chemin = pile.pop()\n",
    "        sommet = chemin[-1]\n",
    "        for voisin in graphe[sommet]:\n",
    "            if voisin==arrivee:\n",
    "                chemins.append(chemin+[voisin])\n",
    "            if voisin not in chemin:\n",
    "                pile.append(chemin+[voisin])\n",
    "    return chemins"
   ]
  },
  {
   "cell_type": "markdown",
   "metadata": {},
   "source": [
    "On pourrait de même modifier l'algorithme en profondeur récursif et l'algorithme en largeur.\n",
    "\n",
    "On constate une complexité élevée : sur le graphe Amerique du Sud on parvient à conclure mais sur le graphe Europe, l'algorithme n'y parvient pas et l'ordinateur ne peut suivre ; il y a un double problème, la complexité d'exécution de l'algorithme mais aussi la complexité d'utilisation de la mémoire, chaque chemin devant être conservé. Si n est le nombre de sommets, le calcul de la complexité fait intervenir n! (factorielle de n) : la complexité est exponentielle.\n",
    "\n",
    "Pour répondre à la question du plus court chemin, on change de paradigme : on va utiliser la programmation dynamique.\n",
    "\n",
    "L'idée est que si le plus court chemin entre D et A passe par E, alors ses deux morceaux de D à E et de E à A sont aussi les plus courts chemins.\n",
    "\n",
    "En conséquence, si un chemin passant par le sommet S emprunte le voisin V, il ne peut passer par aucun autre voisin de S.\n",
    "On peut donc modifier le graphe au fur et à mesure pour ne tester que les sommets possibles.\n",
    "\n",
    "Pour cela, nous définissons une fonction newgraphe qui renvoie un graphe modifié en éliminant le sommet actuel et tous ses voisins sauf celui qui va être visité."
   ]
  },
  {
   "cell_type": "code",
   "execution_count": null,
   "metadata": {},
   "outputs": [],
   "source": [
    "def newgraphe(graphe, sommet, voisin):\n",
    "    \"\"\" Fonction qui prend en entrée un graphe, un sommet du graphe\n",
    "        et un voisin de ce sommet.\n",
    "        Renvoie un graphe modifié en supprimant le sommet,\n",
    "        toutes les références au sommet et à tous les\n",
    "        voisins du sommet sauf celui indiqué\n",
    "    \"\"\"\n",
    "    new = {}\n",
    "    for cle, valeur in graphe.items():\n",
    "        if cle!=sommet:\n",
    "            if cle not in graphe[sommet]:\n",
    "                new[cle] = []\n",
    "                for v in valeur:\n",
    "                    if v!=sommet and\\\n",
    "                       v not in graphe[sommet]:\n",
    "                        new[cle].append(v)\n",
    "            elif cle==voisin:\n",
    "                new[cle] = []\n",
    "                for v in valeur:\n",
    "                    if v!=sommet and\\\n",
    "                       v not in graphe[sommet]:\n",
    "                        new[cle].append(v)\n",
    "    return new\n",
    "\n",
    "\n",
    "def newgraphe2(graphe, sommet, voisin):\n",
    "    \"\"\" Fonction qui prend en entrée un graphe, un sommet du graphe\n",
    "        et un voisin de ce sommet.\n",
    "        Renvoie un graphe modifié en supprimant le sommet,\n",
    "        toutes les références au sommet et à tous les\n",
    "        voisins du sommet sauf celui indiqué\n",
    "        Version en compréhension\n",
    "    \"\"\"\n",
    "    return {cle : [v for v in valeur\\\n",
    "                   if v!=sommet and v not in graphe[sommet] or v=voisin]\\\n",
    "            for cle, valeur in graphe.items()\n",
    "            if cle!=sommet and cle not in graphe[sommet] or cle==voisin}"
   ]
  },
  {
   "cell_type": "markdown",
   "metadata": {},
   "source": [
    "Nous allons maintenant reprendre notre parcours, en modifiant le graphe au fur et à mesure du cheminement.\n",
    "\n",
    "Mais attention, il faut pouvoir revenir en arrière. Le dictionnaire devra être mis dans une pile/file."
   ]
  },
  {
   "cell_type": "code",
   "execution_count": null,
   "metadata": {},
   "outputs": [],
   "source": [
    "def pcc_dfsi_dynamique(graphe, depart, arrivee):\n",
    "    \"\"\" En utilisant un parcours en profondeur itératif\n",
    "        algorithme qui renvoie le plus court chemin\n",
    "        reliant le depart à l'arrivee\n",
    "        Programmation dynamique\n",
    "    \"\"\"\n",
    "    pluscourt = []\n",
    "    chemin = [depart]\n",
    "    pile = [chemin] # à adapter\n",
    "    while len(pile)>0:\n",
    "        chemin = pile.pop() # à adapter\n",
    "        sommet = chemin[-1]\n",
    "        for voisin in new[sommet]:\n",
    "            if voisin==arrivee:\n",
    "                if len(pluscourt)==0:\n",
    "                    pluscourt = chemin+[voisin]\n",
    "                if len(chemin)+1<len(pluscourt):\n",
    "                    pluscourt = chemin+[voisin]\n",
    "            if voisin not in chemin:\n",
    "                pile.append(chemin+[voisin]) # à adapter\n",
    "    return pluscourt"
   ]
  },
  {
   "cell_type": "markdown",
   "metadata": {},
   "source": [
    "Adapter l'algorithme de parcours en profondeur récursif pour trouver le plus court chemin en programmation dynamique."
   ]
  },
  {
   "cell_type": "code",
   "execution_count": null,
   "metadata": {},
   "outputs": [],
   "source": [
    "def pcc_dfsr_dynamique(graphe, depart, arrivee, chemin=[], trouve=[]):\n",
    "    \"\"\" En utilisant un parcours en profondeur récursif\n",
    "        algorithme qui renvoie le plus court chemin\n",
    "        reliant le depart à l'arrivee\n",
    "        Programmation dynamique\n",
    "    \"\"\"\n",
    "    if len(chemin)==0:\n",
    "        chemin = [depart]\n",
    "    for voisin in graphe[depart]:\n",
    "        if len(trouve)==0:\n",
    "            if voisin == arrivee:\n",
    "                trouve.append(chemin+[voisin])\n",
    "            if voisin not in chemin:\n",
    "                unchemin_dfsr(graphe, voisin, arrivee, chemin+[voisin],\n",
    "                              trouve)\n",
    "    return trouve[0]"
   ]
  },
  {
   "cell_type": "markdown",
   "metadata": {},
   "source": [
    "Idem avec le parcours en largeur"
   ]
  },
  {
   "cell_type": "code",
   "execution_count": null,
   "metadata": {},
   "outputs": [],
   "source": [
    "def pcc_bfs_dynamique(graphe, depart, arrivee):\n",
    "    \"\"\" En utilisant un parcours en largeur (itératif)\n",
    "        algorithme qui renvoie le plus court chemin\n",
    "        reliant le depart à l'arrivee\n",
    "        Programmation dynamique\n",
    "    \"\"\"\n",
    "    chemin = [depart]\n",
    "    file = [chemin]\n",
    "    while len(file)>0:\n",
    "        chemin = file.pop(0)\n",
    "        sommet = chemin[-1]\n",
    "        for voisin in graphe[sommet]:\n",
    "            if voisin==arrivee:\n",
    "                return chemin+[voisin]\n",
    "            if voisin not in chemin:\n",
    "                file.append(chemin+[voisin])\n",
    "    return None"
   ]
  },
  {
   "cell_type": "markdown",
   "metadata": {},
   "source": [
    "## Algorithme de recherche d'un cycle\n",
    "\n",
    "L'intérêt de détecter les cycles est qu'un graphe sans cycle est un arbre.\n",
    "\n",
    "Un cycle est une chaîne fermée dont les arêtes sont distinctes. En particulier, A-B-A n'est pas un cycle / un cycle comporte au moins 3 sommets.\n",
    "\n",
    "En partant d'un parcours en largeur, adapter l'algorithme pour détecter un cycle."
   ]
  },
  {
   "cell_type": "code",
   "execution_count": null,
   "metadata": {},
   "outputs": [],
   "source": [
    "def cycle_bfs(graphe, racine):\n",
    "    \"\"\" En utilisant un parcours en largeur (itératif)\n",
    "        algorithme qui renvoie True s'il existe un cycle\n",
    "        au départ de racine et False sinon\n",
    "    \"\"\"\n",
    "    visites = []\n",
    "    file = [racine]\n",
    "    while len(file)>0:\n",
    "        sommet = file.pop(0)\n",
    "        if sommet not in visites:\n",
    "            visites.append(sommet)\n",
    "        for voisin in graphe[sommet]:\n",
    "            if voisin not in visites:\n",
    "                file.append(voisin)\n",
    "    return visites"
   ]
  },
  {
   "cell_type": "markdown",
   "metadata": {},
   "source": [
    "Faire de même avec le parcours en profondeur itératif"
   ]
  },
  {
   "cell_type": "code",
   "execution_count": null,
   "metadata": {},
   "outputs": [],
   "source": [
    "def cycle_dfsi(graphe, racine):\n",
    "    \"\"\" En utilisant un parcours en profondeur itératif\n",
    "        algorithme qui renvoie True s'il existe un cycle\n",
    "        au départ de racine et False sinon\n",
    "    \"\"\"\n",
    "    visites = []\n",
    "    pile = [racine]\n",
    "    while len(pile)>0:\n",
    "        sommet = pile.pop()\n",
    "        if sommet not in visites:\n",
    "            visites.append(sommet)\n",
    "        for voisin in graphe[sommet]:\n",
    "            if voisin not in visites:\n",
    "                pile.append(voisin)\n",
    "    return visites"
   ]
  },
  {
   "cell_type": "markdown",
   "metadata": {},
   "source": [
    "Faire de même avec le parcours en profondeur récursif"
   ]
  },
  {
   "cell_type": "code",
   "execution_count": null,
   "metadata": {},
   "outputs": [],
   "source": [
    "def cycle_dfsr(graphe, racine, visites=[]):\n",
    "    \"\"\" En utilisant un parcours en profondeur récursif\n",
    "        algorithme qui renvoie True s'il existe un cycle\n",
    "        au départ de racine et False sinon\n",
    "    \"\"\"\n",
    "    if racine not in visites:\n",
    "        visites.append(racine)\n",
    "    for voisin in graphe[racine]:\n",
    "        if voisin not in visites:\n",
    "            dfs_recursif(graphe, voisin, visites)\n",
    "    return visites"
   ]
  },
  {
   "cell_type": "markdown",
   "metadata": {},
   "source": [
    "Écrire une fonction existe_cycle, qui prend en paramètres un graphe de type dictionnaire de listes d'adjacences et qui renvoie un booléen indiquant si le graphe possède un cycle."
   ]
  },
  {
   "cell_type": "code",
   "execution_count": null,
   "metadata": {},
   "outputs": [],
   "source": [
    "def existe_cycle(graphe):\n",
    "    \"\"\" Algorithme qui renvoie\n",
    "            * True s'il existe un cycle dans le graphe\n",
    "            * False sinon et alors le graphe est un arbre\n",
    "        Utilise au choix l'une des trois fonctions précédentes\n",
    "    \"\"\"\n",
    "    pass"
   ]
  }
 ],
 "metadata": {
  "kernelspec": {
   "display_name": "Python 3",
   "language": "python",
   "name": "python3"
  },
  "language_info": {
   "codemirror_mode": {
    "name": "ipython",
    "version": 3
   },
   "file_extension": ".py",
   "mimetype": "text/x-python",
   "name": "python",
   "nbconvert_exporter": "python",
   "pygments_lexer": "ipython3",
   "version": "3.8.5"
  }
 },
 "nbformat": 4,
 "nbformat_minor": 4
}
