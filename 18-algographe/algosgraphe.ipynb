{
 "cells": [
  {
   "cell_type": "markdown",
   "metadata": {},
   "source": [
    "<div class = \"alert alert-info\">\n",
    "\n",
    "## Instructions\n",
    "    \n",
    "Exécuter les cellules les unes après les autres, en ayant complété le code quand c'est demandé.\n",
    "En cas d'erreur, corriger.\n",
    "Pour tout problème, envoyer un mail à herve.vasseur@ac-orleans-tours.fr\n",
    "</div>"
   ]
  },
  {
   "cell_type": "code",
   "execution_count": null,
   "metadata": {},
   "outputs": [],
   "source": [
    "# On charge les 2 graphes (Amérique du Sud et Europe)\n",
    "# pour tester les différents algorithmes\n",
    "\n",
    "from ameriquesud import G as ga\n",
    "from europe import G as ge"
   ]
  },
  {
   "cell_type": "markdown",
   "metadata": {},
   "source": [
    "## Algorithme de recherche d'un chemin\n",
    "\n",
    "<div class = \"alert alert-danger\">\n",
    "    On l'a fait en classe. C'est pour rappel.\n",
    "</div>\n",
    "\n",
    "1) Algorithme en profondeur itératif de recherche d'un chemin"
   ]
  },
  {
   "cell_type": "code",
   "execution_count": null,
   "metadata": {},
   "outputs": [],
   "source": [
    "def unchemin_dfsi(graphe, depart, arrivee):\n",
    "    \"\"\" En utilisant un parcours en profondeur itératif\n",
    "        algorithme qui renvoie le premier chemin trouvé\n",
    "        reliant le depart à l'arrivee\n",
    "    \"\"\"\n",
    "    chemin = [depart]\n",
    "    pile = [chemin] # on place les chemins dans une pile\n",
    "    while len(pile)>0:\n",
    "        chemin = pile.pop() # on sort le dernier chemin de la pile\n",
    "        sommet = chemin[-1] # on note le dernier sommet de ce chemin\n",
    "        # on va créer tous les chemins obtenu en prolongeant\n",
    "        # celui-ci à partir des voisins du sommet\n",
    "        for voisin in graphe[sommet]:\n",
    "            if voisin==arrivee: # c'est le chemin cherché\n",
    "                return chemin+[voisin] # on a fini\n",
    "            if voisin not in chemin: # on n'est pas encore passé par là\n",
    "                pile.append(chemin+[voisin]) # ajout du nouveau chemin\n",
    "    return None # on n'a pas trouvé de chemin entre depart et arrivee"
   ]
  },
  {
   "cell_type": "code",
   "execution_count": null,
   "metadata": {},
   "outputs": [],
   "source": [
    "# test 1\n",
    "unchemin_dfsi(ga, \"France\", \"Equateur\")"
   ]
  },
  {
   "cell_type": "code",
   "execution_count": null,
   "metadata": {},
   "outputs": [],
   "source": [
    "# test 2\n",
    "unchemin_dfsi(ge, \"France\", \"Roumanie\")"
   ]
  },
  {
   "cell_type": "markdown",
   "metadata": {},
   "source": [
    "2) Algorithme en profondeur récursif de recherche d'un chemin\n",
    "\n",
    "<div class = \"alert alert-danger\">\n",
    "    On l'a fait en classe.<br />\n",
    "    Il a été modifié pour effacer le pile entre deux appels. La variable trouvé contient None si pas de chemin ou le chemin. On la vide à chaque retour pour eviter le problème de mémorisation d'un chemin.\n",
    "</div>"
   ]
  },
  {
   "cell_type": "code",
   "execution_count": null,
   "metadata": {},
   "outputs": [],
   "source": [
    "def unchemin_dfsr(graphe, depart, arrivee, chemin=[], trouve=None):\n",
    "    \"\"\" En utilisant un parcours en profondeur récursif\n",
    "        algorithme qui renvoie le premier chemin trouvé\n",
    "        reliant le depart à l'arrivee\n",
    "        Les variables ne sont plus définie localement,\n",
    "        mais passées en paramètre\n",
    "    \"\"\"\n",
    "    if len(chemin)==0: # initialisation au niveau 0\n",
    "        chemin = [depart]\n",
    "    for voisin in graphe[depart]:\n",
    "        if trouve is None: # si on n'a pas encore trouvé un chemin\n",
    "            if voisin == arrivee: # c'est le chemin cherché\n",
    "                trouve = chemin+[voisin] # on ajoute la solution\n",
    "            if voisin not in chemin: # on n'est pas encore passé par là\n",
    "                # appel récursif sur le nouveau chemin\n",
    "                trouve = unchemin_dfsr(graphe, voisin, arrivee, chemin+[voisin],\n",
    "                              trouve)\n",
    "    # renvoi du chemin trouvé ou de None s'il n'existe pas\n",
    "    return trouve"
   ]
  },
  {
   "cell_type": "code",
   "execution_count": null,
   "metadata": {},
   "outputs": [],
   "source": [
    "# test 1\n",
    "unchemin_dfsr(ga, \"France\", \"Equateur\")"
   ]
  },
  {
   "cell_type": "code",
   "execution_count": null,
   "metadata": {},
   "outputs": [],
   "source": [
    "# test 2\n",
    "unchemin_dfsr(ge, \"France\", \"Roumanie\")"
   ]
  },
  {
   "cell_type": "markdown",
   "metadata": {},
   "source": [
    "3) Algorithme en largeur de recherche d'un chemin"
   ]
  },
  {
   "cell_type": "code",
   "execution_count": null,
   "metadata": {},
   "outputs": [],
   "source": [
    "def unchemin_bfs(graphe, depart, arrivee):\n",
    "    \"\"\" En utilisant un parcours en largeur (itératif)\n",
    "        algorithme qui renvoie le premier chemin trouvé\n",
    "        reliant le depart à l'arrivee\n",
    "    \"\"\"\n",
    "    chemin = [depart]\n",
    "    file = [chemin] # on place les chemins dans une file\n",
    "    while len(file)>0:\n",
    "        chemin = file.pop(0) # on sort le premier chemin de la file\n",
    "        sommet = chemin[-1] # on note le dernier sommet de ce chemin\n",
    "        # on va créer tous les chemins obtenu en prolongeant\n",
    "        # celui-ci à partir des voisins du sommet\n",
    "        for voisin in graphe[sommet]:\n",
    "            if voisin==arrivee: # c'est le chemin cherché\n",
    "                return chemin+[voisin] # on a fini\n",
    "            if voisin not in chemin: # on n'est pas encore passé par là\n",
    "                file.append(chemin+[voisin]) # ajout du nouveau chemin\n",
    "    return None # on n'a pas trouvé de chemin entre depart et arrivee"
   ]
  },
  {
   "cell_type": "code",
   "execution_count": null,
   "metadata": {},
   "outputs": [],
   "source": [
    "# test 1\n",
    "unchemin_bfs(ga, \"France\", \"Equateur\")"
   ]
  },
  {
   "cell_type": "code",
   "execution_count": null,
   "metadata": {},
   "outputs": [],
   "source": [
    "# test 2\n",
    "unchemin_bfs(ge, \"France\", \"Roumanie\")"
   ]
  },
  {
   "cell_type": "markdown",
   "metadata": {},
   "source": [
    "## Algorithme de recherche du plus court chemin\n",
    "\n",
    "Une première idée naïve peut être de chercher tous les chemins, puis de déterminer dans cette liste le plus court. Par exemple :\n",
    "\n",
    "Algorithme en profondeur itératif de recherche de tous les chemins"
   ]
  },
  {
   "cell_type": "code",
   "execution_count": null,
   "metadata": {},
   "outputs": [],
   "source": [
    "def tousleschemins_dfsi(graphe, depart, arrivee):\n",
    "    \"\"\" En utilisant un parcours en profondeur itératif\n",
    "        algorithme qui renvoie tous les chemins\n",
    "        reliant le depart à l'arrivee\n",
    "    \"\"\"\n",
    "    chemins = [] # liste de tous les chemins trouvés\n",
    "    chemin = [depart]\n",
    "    pile = [chemin]\n",
    "    while len(pile)>0:\n",
    "        chemin = pile.pop()\n",
    "        sommet = chemin[-1]\n",
    "        for voisin in graphe[sommet]:\n",
    "            if voisin==arrivee: # c'est un chemin entre depart et arrivee\n",
    "                chemins.append(chemin+[voisin]) # on l'ajoute à la liste\n",
    "            if voisin not in chemin:\n",
    "                pile.append(chemin+[voisin])\n",
    "    return chemins"
   ]
  },
  {
   "cell_type": "code",
   "execution_count": null,
   "metadata": {},
   "outputs": [],
   "source": [
    "# test\n",
    "tousleschemins_dfsi(ga, \"France\", \"Equateur\")"
   ]
  },
  {
   "cell_type": "markdown",
   "metadata": {},
   "source": [
    "On pourrait de même modifier l'algorithme en profondeur récursif.\n",
    "\n",
    "Pour le parcours en largeur, on obtient :"
   ]
  },
  {
   "cell_type": "code",
   "execution_count": null,
   "metadata": {},
   "outputs": [],
   "source": [
    "def tousleschemins_bfs(graphe, depart, arrivee):\n",
    "    \"\"\" En utilisant un parcours en largeur (itératif)\n",
    "        algorithme qui renvoie le premier chemin trouvé\n",
    "        reliant le depart à l'arrivee\n",
    "    \"\"\"\n",
    "    chemins = [] # liste de tous les chemins trouvés\n",
    "    chemin = [depart]\n",
    "    file = [chemin]\n",
    "    while len(file)>0:\n",
    "        chemin = file.pop(0)\n",
    "        sommet = chemin[-1]\n",
    "        for voisin in graphe[sommet]:\n",
    "            if voisin==arrivee: # c'est un chemin entre depart et arrivee\n",
    "                chemins.append(chemin+[voisin]) # on l'ajoute à la liste\n",
    "            if voisin not in chemin:\n",
    "                file.append(chemin+[voisin])\n",
    "    return chemins"
   ]
  },
  {
   "cell_type": "code",
   "execution_count": null,
   "metadata": {},
   "outputs": [],
   "source": [
    "# test\n",
    "tousleschemins_bfs(ga, \"France\", \"Equateur\")"
   ]
  },
  {
   "cell_type": "markdown",
   "metadata": {},
   "source": [
    "<div class = \"alert alert-danger\">\n",
    "    On constate une complexité élevée : sur le graphe Amérique du Sud on parvient à conclure mais sur le graphe Europe, l'algorithme n'y parvient pas et l'ordinateur ne peut suivre ; il y a un double problème, la complexité d'exécution de l'algorithme mais aussi la complexité d'utilisation de la mémoire, chaque chemin devant être conservé. Si n est le nombre de sommets, le calcul de la complexité fait intervenir n! (factorielle de n) : la complexité est exponentielle.<br />\n",
    "    Certains problèmes sur les graphes sont de problème NP.\n",
    "</div>\n",
    "<div class = \"alert alert-info\">\n",
    "    \n",
    "Pour répondre à la question du plus court chemin, on change de paradigme : on va utiliser **la programmation dynamique**.\n",
    "\n",
    "L'idée est que si le plus court chemin entre D et A passe par E, alors ses deux morceaux de D à E et de E à A sont aussi les plus courts chemins.\n",
    "\n",
    "En conséquence, si un chemin passant par le sommet S emprunte le voisin V, il ne peut passer par aucun autre voisin de S.\n",
    "\n",
    "On peut donc modifier le graphe au fur et à mesure pour ne tester que les sommets possibles.\n",
    "\n",
    "Pour cela, nous définissons une fonction newgraphe qui renvoie un graphe modifié en éliminant le sommet actuel et tous ses voisins sauf celui qui va être visité.\n",
    "</div>"
   ]
  },
  {
   "cell_type": "code",
   "execution_count": null,
   "metadata": {},
   "outputs": [],
   "source": [
    "def newgraphe(graphe, sommet, voisin):\n",
    "    \"\"\" Fonction qui prend en entrée un graphe, un sommet du graphe\n",
    "        et un voisin de ce sommet.\n",
    "        Renvoie un graphe modifié en supprimant le sommet,\n",
    "        toutes les références au sommet et à tous les\n",
    "        voisins du sommet sauf celui indiqué\n",
    "    \"\"\"\n",
    "    new = {}\n",
    "    for cle, valeur in graphe.items():\n",
    "        if cle!=sommet:\n",
    "            if cle not in graphe[sommet]:\n",
    "                new[cle] = []\n",
    "                for v in valeur:\n",
    "                    if v!=sommet and\\\n",
    "                       v not in graphe[sommet]:\n",
    "                        new[cle].append(v)\n",
    "            elif cle==voisin:\n",
    "                new[cle] = []\n",
    "                for v in valeur:\n",
    "                    if v!=sommet and\\\n",
    "                       v not in graphe[sommet]:\n",
    "                        new[cle].append(v)\n",
    "    return new\n",
    "\n",
    "\n",
    "def newgraphe2(graphe, sommet, voisin):\n",
    "    \"\"\" Fonction qui prend en entrée un graphe, un sommet du graphe\n",
    "        et un voisin de ce sommet.\n",
    "        Renvoie un graphe modifié en supprimant le sommet,\n",
    "        toutes les références au sommet et à tous les\n",
    "        voisins du sommet sauf celui indiqué\n",
    "        Version en compréhension\n",
    "    \"\"\"\n",
    "    return {cle : [v for v in valeur\\\n",
    "                   if v!=sommet and v not in graphe[sommet] or v==voisin]\\\n",
    "            for cle, valeur in graphe.items()\n",
    "            if cle!=sommet and cle not in graphe[sommet] or cle==voisin}"
   ]
  },
  {
   "cell_type": "code",
   "execution_count": null,
   "metadata": {},
   "outputs": [],
   "source": [
    "# test\n",
    "newgraphe2(ga,\"France\", \"Bresil\")"
   ]
  },
  {
   "cell_type": "markdown",
   "metadata": {},
   "source": [
    "Nous allons maintenant reprendre notre parcours, en modifiant le graphe au fur et à mesure du cheminement.\n",
    "\n",
    "C'est ce sur quoi nous étions à la dernière séance.\n",
    "\n",
    "<div class=\"alert alert-danger\">\n",
    "    Mais attention, il faut pouvoir revenir en arrière.<br />\n",
    "    Le dictionnaire devra être mis dans une pile/file.\n",
    "</div>"
   ]
  },
  {
   "cell_type": "code",
   "execution_count": null,
   "metadata": {},
   "outputs": [],
   "source": [
    "def pcc_dfsi_dynamique(graphe, depart, arrivee):\n",
    "    \"\"\" En utilisant un parcours en profondeur itératif\n",
    "        algorithme qui renvoie le plus court chemin\n",
    "        reliant le depart à l'arrivee\n",
    "        Programmation dynamique\n",
    "    \"\"\"\n",
    "    pluscourt = []\n",
    "    chemin = [depart]\n",
    "    pile = [(chemin, graphe)] # la pile contient le chemin et le graphe restant\n",
    "    while len(pile)>0:\n",
    "        chemin, graf = pile.pop() # on recupère le dernier chemin et son graphe\n",
    "        sommet = chemin[-1]\n",
    "        for voisin in graf[sommet]: # on visite tous les voisins de la dernière\n",
    "            # étape du chemin courant, en utilisant le graphe courant\n",
    "            if voisin==arrivee: # c'est notre objectif\n",
    "                if len(pluscourt)==0: # c'est le premier chemin qu'on trouve\n",
    "                    pluscourt = chemin+[voisin] # il est nécessairement le plus court\n",
    "                elif len(chemin)+1<len(pluscourt): # il est plus court que le plus court\n",
    "                    pluscourt = chemin+[voisin] # c'est le nouveau plus court\n",
    "            if voisin not in chemin: # on n'est pas encore arrivé\n",
    "                # ajout du nouveau chemin et du graphe correspondant dans le pile\n",
    "                pile.append((chemin+[voisin], newgraphe2(graf,sommet,voisin)))\n",
    "    return pluscourt"
   ]
  },
  {
   "cell_type": "code",
   "execution_count": null,
   "metadata": {},
   "outputs": [],
   "source": [
    "#test 1\n",
    "pcc_dfsi_dynamique(ga,\"France\",\"Equateur\")"
   ]
  },
  {
   "cell_type": "code",
   "execution_count": null,
   "metadata": {},
   "outputs": [],
   "source": [
    "#test 2\n",
    "pcc_dfsi_dynamique(ge,\"France\",\"Roumanie\")"
   ]
  },
  {
   "cell_type": "markdown",
   "metadata": {},
   "source": [
    "#### Exercice 1\n",
    "\n",
    "<div class=\"alert alert-danger\">\n",
    "    Adapter l'algorithme de parcours en profondeur récursif pour trouver le plus court chemin en programmation dynamique.\n",
    "</div>"
   ]
  },
  {
   "cell_type": "code",
   "execution_count": null,
   "metadata": {},
   "outputs": [],
   "source": [
    "def pcc_dfsr_dynamique(graphe, depart, arrivee, chemin=[], pcc=[None]):\n",
    "    \"\"\" En utilisant un parcours en profondeur récursif\n",
    "        algorithme qui renvoie le plus court chemin\n",
    "        reliant le depart à l'arrivee\n",
    "        Programmation dynamique\n",
    "        Les variables ne sont plus définie localement,\n",
    "        mais passées en paramètre\n",
    "    \"\"\"\n",
    "    if len(chemin)==0: # initialisation au niveau 0\n",
    "        chemin = [depart]\n",
    "    for voisin in graphe[depart]:\n",
    "        if voisin == arrivee: # c'est le chemin cherché\n",
    "            pass # À compléter pcc est un tableau qui ne contient qu'un élément\n",
    "        if voisin not in chemin:\n",
    "            pcc_dfsr_dynamique( #Arguments à compléter\n",
    "    return pcc[0]"
   ]
  },
  {
   "cell_type": "code",
   "execution_count": null,
   "metadata": {},
   "outputs": [],
   "source": [
    "#test 1\n",
    "pcc_dfsr_dynamique(ga,\"France\",\"Equateur\")"
   ]
  },
  {
   "cell_type": "code",
   "execution_count": null,
   "metadata": {},
   "outputs": [],
   "source": [
    "#test 2\n",
    "pcc_dfsi_dynamique(ge,\"France\",\"Roumanie\")"
   ]
  },
  {
   "cell_type": "markdown",
   "metadata": {},
   "source": [
    "#### Exercice 2\n",
    "\n",
    "<div class=\"alert alert-danger\">\n",
    "    Adapter l'algorithme de parcours en largeur pour trouver le plus court chemin en programmation dynamique.\n",
    "</div>"
   ]
  },
  {
   "cell_type": "code",
   "execution_count": null,
   "metadata": {},
   "outputs": [],
   "source": [
    "def pcc_bfs_dynamique(graphe, depart, arrivee):\n",
    "    \"\"\" En utilisant un parcours en largeur (itératif)\n",
    "        algorithme qui renvoie le plus court chemin\n",
    "        reliant le depart à l'arrivee\n",
    "        Programmation dynamique\n",
    "    \"\"\"\n",
    "    chemin = [depart]\n",
    "    file = [chemin]\n",
    "    while len(file)>0:\n",
    "        chemin = file.pop(0)\n",
    "        sommet = chemin[-1]\n",
    "        for voisin in graphe[sommet]:\n",
    "            if voisin==arrivee:\n",
    "                return chemin+[voisin]\n",
    "            if voisin not in chemin:\n",
    "                file.append(chemin+[voisin])\n",
    "    return None"
   ]
  },
  {
   "cell_type": "code",
   "execution_count": null,
   "metadata": {},
   "outputs": [],
   "source": [
    "#test 1\n",
    "pcc_bfs_dynamique(ga,\"France\",\"Equateur\")"
   ]
  },
  {
   "cell_type": "code",
   "execution_count": null,
   "metadata": {},
   "outputs": [],
   "source": [
    "#test 2\n",
    "pcc_bfs_dynamique(ge,\"France\",\"Roumanie\")"
   ]
  },
  {
   "cell_type": "markdown",
   "metadata": {},
   "source": [
    "<div class=\"alert alert-info\">\n",
    "    \n",
    "## Algorithme de recherche d'un cycle\n",
    "    \n",
    "L'intérêt de détecter les cycles est qu'un graphe sans cycle est un arbre.<br />\n",
    "Un cycle est une chaîne fermée dont les arêtes sont distinctes. En particulier, A-B-A n'est pas un cycle / un cycle comporte au moins 3 sommets.<br />\n",
    "En partant d'un parcours en largeur, adapter l'algorithme pour détecter un cycle.\n",
    "</div>\n",
    "Pour ce faire, nous allons définir un dictionnaire associant les différents sommets à un **niveau** qui correspond en fait à la distance depuis la racine.\n",
    "\n",
    "On initialise les niveaux à **None** et celui de la racine à 0.\n",
    "\n",
    "Lorsqu'on visite un voisin d'un sommet :\n",
    "- si son niveau est **None** on lui donne la valeur du niveau du sommet plus 1 et on le place dans la file ;\n",
    "- si son niveau est supérieur ou égal à celui du sommet, on a trouvé un cycle ;\n",
    "- si son niveau est inférieur à celui du sommet, on ne fait rien."
   ]
  },
  {
   "cell_type": "code",
   "execution_count": null,
   "metadata": {},
   "outputs": [],
   "source": [
    "def cycle_bfs(graphe, racine):\n",
    "    \"\"\" En utilisant un parcours en largeur (itératif)\n",
    "        algorithme qui renvoie True s'il existe un cycle\n",
    "        au départ de racine et False sinon\n",
    "    \"\"\"\n",
    "    niveaux = {s : None for s in graphe.keys()}\n",
    "    niveaux[racine] = 0\n",
    "    file = [racine]\n",
    "    while len(file)>0:\n",
    "        sommet = file.pop(0)\n",
    "        for voisin in graphe[sommet]:\n",
    "            if niveaux[voisin] is None:\n",
    "                niveaux[voisin] = niveaux[sommet] + 1\n",
    "                file.append(voisin)\n",
    "            elif niveaux[voisin]>=niveaux[sommet]:\n",
    "                return True\n",
    "    return False"
   ]
  },
  {
   "cell_type": "code",
   "execution_count": null,
   "metadata": {},
   "outputs": [],
   "source": [
    "# test 1\n",
    "cycle_bfs(ga, \"France\")"
   ]
  },
  {
   "cell_type": "code",
   "execution_count": null,
   "metadata": {},
   "outputs": [],
   "source": [
    "# test 2\n",
    "cycle_bfs(ge, \"Irlande\")"
   ]
  },
  {
   "cell_type": "markdown",
   "metadata": {},
   "source": [
    "#### Exercice 3\n",
    "\n",
    "<div class=\"alert alert-danger\">\n",
    "    Écrire une fonction existe_cycle, qui prend en paramètres un graphe de type dictionnaire de listes d'adjacences et qui renvoie un booléen indiquant si le graphe possède un cycle.\n",
    "</div>"
   ]
  },
  {
   "cell_type": "code",
   "execution_count": null,
   "metadata": {},
   "outputs": [],
   "source": [
    "def existe_cycle(graphe):\n",
    "    \"\"\" Algorithme qui renvoie\n",
    "            * True s'il existe un cycle dans le graphe\n",
    "            * False sinon et alors le graphe est un arbre\n",
    "        Utilise au choix l'une des trois fonctions précédentes\n",
    "    \"\"\"\n",
    "    pass"
   ]
  },
  {
   "cell_type": "code",
   "execution_count": null,
   "metadata": {},
   "outputs": [],
   "source": [
    "# test 1\n",
    "existe_cycle(ga)"
   ]
  },
  {
   "cell_type": "code",
   "execution_count": null,
   "metadata": {},
   "outputs": [],
   "source": [
    "# test 2\n",
    "existe_cycle(ge)"
   ]
  }
 ],
 "metadata": {
  "kernelspec": {
   "display_name": "Python 3",
   "language": "python",
   "name": "python3"
  },
  "language_info": {
   "codemirror_mode": {
    "name": "ipython",
    "version": 3
   },
   "file_extension": ".py",
   "mimetype": "text/x-python",
   "name": "python",
   "nbconvert_exporter": "python",
   "pygments_lexer": "ipython3",
   "version": "3.8.5"
  }
 },
 "nbformat": 4,
 "nbformat_minor": 4
}
