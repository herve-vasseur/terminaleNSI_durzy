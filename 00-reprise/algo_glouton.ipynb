{
 "cells": [
  {
   "cell_type": "markdown",
   "metadata": {},
   "source": [
    "# Rendu de monnaie\n",
    "\n",
    "### 1 Force brute\n",
    "\n",
    "Reprennons le problème de rendu de monnaie et programmons le.  \n",
    "Nous travaillons avec le système monétaire\n",
    "```python\n",
    "systeme = [500, 200, 100, 50, 20, 10, 5, 2, 1]\n",
    "```\n",
    "et nous souhaitons rendre\n",
    "```python\n",
    "S = 47\n",
    "```\n",
    "Nous allons déjà faire un programme qui va trouver la solution par **force brute**, c'est-à-dire en énumérant de façon exhaustive toutes les solutions possibles.  \n",
    "Une solution sera un dictionnaire des couples (valeur de pièce, nombre de pièce). Par exemple :\n",
    "```python\n",
    "{10 : 2, 5 : 4, 2 : 3, 1 : 1}\n",
    "```\n",
    "Pour la construction au fur et à mesure de cette solution, on ajoutera la clé \"reste\" associée à la valeur reste à rendre. Par exemple :\n",
    "```python\n",
    "{10 : 2, 5 : 1, \"reste\" : 22}\n",
    "```\n",
    "On fera une table contenant l'ensemble des solutions. C'est ce que renvoie la fonction `force_brute`."
   ]
  },
  {
   "cell_type": "code",
   "execution_count": null,
   "metadata": {},
   "outputs": [],
   "source": [
    "### Executer la cellule, après avoir compris ce qu'il fait\n",
    "\n",
    "### Une fonction qui crée la table initiale, avec la première valeur possible de pièce\n",
    "def initialise(S, piece):\n",
    "    '''Initialise la table des solutions partielles.\n",
    "       piece est la plus grande valeur de pièce disponible inférieur à la somme à rendre S\n",
    "       Renvoie la table avec autant de dictionnaires que de fois qu'on peut rendre piece\n",
    "    '''\n",
    "    return [{\"reste\" : (S-k*piece), piece : k} for k in range(S//piece +1)]\n",
    "\n",
    "\n",
    "### Une fonction qui complète les solutions avec les pièces intermédiaires\n",
    "def intermediaire(table, piece):\n",
    "    '''Prend en paramètre la table des solutions partielles construites en prenant les pièces de valeur\n",
    "       strictement supérieure à piece.\n",
    "       Renvoie la table des solutions partielles en utilisant la valeur piece\n",
    "    '''\n",
    "    table_retour = []\n",
    "    for elem in table:\n",
    "        if piece>elem[\"reste\"]: # si piece est plus grand que ce qui reste à rendre\n",
    "            table_retour.append(elem) # on n'ajoute rien à la solution. On la recopie telle quelle\n",
    "        else:                   # sinon\n",
    "            for k in range(elem[\"reste\"]//piece+1): # on crée autant de nouvelles solutions qu'on peut utiliser piece\n",
    "                table_retour.append({cle:valeur for cle,valeur in elem.items()})\n",
    "                table_retour[-1][piece] = k\n",
    "                table_retour[-1][\"reste\"] = elem[\"reste\"] - k*piece\n",
    "    return table_retour\n",
    "\n",
    "\n",
    "### Une fonction qui ajoute la dernière piece possible\n",
    "def finalise(table, piece):\n",
    "    table_retour = []\n",
    "    for elem in table:\n",
    "        if piece>elem[\"reste\"]: # si piece est plus grand que ce qui reste à rendre\n",
    "            table_retour.append(elem) # on n'ajoute rien à la solution. On la recopie telle quelle\n",
    "        else:                   # sinon on complète la solution\n",
    "            table_retour.append({cle:valeur for cle,valeur in elem.items()})\n",
    "            table_retour[-1][piece] = elem[\"reste\"]//piece # en ajoutant piece autant de fois que possible\n",
    "            table_retour[-1][\"reste\"] = elem[\"reste\"] - (elem[\"reste\"]//piece)*piece\n",
    "    return table_retour\n",
    "\n",
    "\n",
    "### fonction qui construit la table de toutes les solutions possibles\n",
    "def force_brute(systeme, S):\n",
    "    ''' systeme est le système monétaire utilisé, classé en ordre décroissant\n",
    "        S est la somme à rendre\n",
    "        renvoie la table des dictionnaires solutions\n",
    "    '''\n",
    "    utilisable = [piece for piece in systeme if piece<=S] # on ne conserve que les pieces inférieures à S\n",
    "    solutions = initialise(S, utilisable[0]) # on initialise la table avec la plus grande piece possible\n",
    "    for piece in utilisable[1:-1]: # on rajoute successivement les pieces\n",
    "        solutions = intermediaire(solutions, piece)\n",
    "    return finalise(solutions, utilisable[-1]) #on termine avec la dernière piece"
   ]
  },
  {
   "cell_type": "markdown",
   "metadata": {},
   "source": [
    "Testons :"
   ]
  },
  {
   "cell_type": "code",
   "execution_count": null,
   "metadata": {},
   "outputs": [],
   "source": [
    "### Exécuter la cellule\n",
    "table = force_brute([500, 200, 100, 50, 20, 10, 5, 2, 1], 47)\n",
    "print(table)"
   ]
  },
  {
   "cell_type": "markdown",
   "metadata": {},
   "source": [
    "On constate qu'il y a beaucoup de solutions possibles. Combien ?"
   ]
  },
  {
   "cell_type": "code",
   "execution_count": null,
   "metadata": {},
   "outputs": [],
   "source": [
    "### Entrer le code qui permet de savoir combien il y a de solutions et exécuter le.\n"
   ]
  },
  {
   "cell_type": "markdown",
   "metadata": {},
   "source": [
    "Dans cette table, nous allons maintenant chercher celle contenant le moins de piece.\n",
    "Pour celà, compléter la fonction suivante.\n",
    "- On rappelle que pour supprimer une clé d'un dictionnaire on utilise `del dictionnaire[cle]`\n",
    "- la fonction `sum()` permet de faire la somme des éléments d'une liste\n",
    "- `dictionnaire.values()` crée une liste des valeurs du dictionnaire"
   ]
  },
  {
   "cell_type": "code",
   "execution_count": null,
   "metadata": {},
   "outputs": [],
   "source": [
    "def optimum(tableau):\n",
    "    for solution in tableau:\n",
    "         ### compléter pour supprimer de chaque solution la clé 'reste'\n",
    "        solution['nombre'] =   # compléter pour associer à la clé 'nombre' le nombre de pièces utilisées dans cette solution\n",
    "    return tableau"
   ]
  },
  {
   "cell_type": "markdown",
   "metadata": {},
   "source": [
    "Il reste à trié le tableau par ordre croissant suivant la clé 'nombre' et à conservé le premier élément."
   ]
  },
  {
   "cell_type": "code",
   "execution_count": null,
   "metadata": {},
   "outputs": [],
   "source": [
    "table_triee = sorted(table, key = lambda solution:solution['nombre'])\n",
    "table_triee[0]"
   ]
  },
  {
   "cell_type": "markdown",
   "metadata": {},
   "source": [
    "### 2 Algorithme glouton\n",
    "\n",
    "Nous allons maintenant programmer l'algorithme glouton décrit dans le court :\n",
    "\n",
    "    Tant que S n'est pas nulle faire\n",
    "        piece <--- le plus grand element de jeu inférieur à S\n",
    "        ajouter piece dans rendu\n",
    "        S <--- S - piece\n",
    "    fin Tant que\n",
    "    \n",
    "- Pour cela, on va déjà définir une fonction `plus_grande_piece`\n",
    "- Puis la fonction `rendu_glouton`, à compléter avec l'algorithme ci-dessus"
   ]
  },
  {
   "cell_type": "code",
   "execution_count": null,
   "metadata": {},
   "outputs": [],
   "source": [
    "### Exécuter la cellule après l'avoir complétée\n",
    "\n",
    "### Fonction qui détermine la plus grande pièce qu'on peut rendre\n",
    "def plus_grande_piece(systeme, S):\n",
    "    ''' systeme est le système monétaire utilisé, classé dans l'ordre croissant\n",
    "        S la somme à rendre\n",
    "        Renvoie la plus grande valeur de pièce inférieur à S\n",
    "    '''\n",
    "    return [piece for piece in systeme if piece<=S][0]\n",
    "\n",
    "\n",
    "### Fonction qui crée un tableau contenant les éléments à rendre\n",
    "def rendu_glouton(systeme, S):\n",
    "    ''' systeme est le système monétaire utilisé, classé dans l'ordre croissant\n",
    "        S la somme à rendre\n",
    "        Renvoie un tableau contenant les pièces à rendre\n",
    "    '''\n",
    "    table_a_rendre = []\n",
    "    while S>=systeme[-1]:\n",
    "        \n",
    "        # compléter\n",
    "        \n",
    "    return table_a_rendre"
   ]
  },
  {
   "cell_type": "markdown",
   "metadata": {},
   "source": [
    "Testons pour rendre 47 : faire afficher le nombre de pièces utilisées ainsi que la solution"
   ]
  },
  {
   "cell_type": "code",
   "execution_count": null,
   "metadata": {},
   "outputs": [],
   "source": [
    "table = rendu_glouton([500, 200, 100, 50, 20, 10, 5, 2, 1], 47)"
   ]
  },
  {
   "cell_type": "markdown",
   "metadata": {},
   "source": [
    "### 3 Comparatif des 2 algorithmes\n",
    "\n",
    "Outre que l'algorithme glouton apparait beaucoup plus compact que celui en force brute, plus \"simple\" à programmer, testons les temps :"
   ]
  },
  {
   "cell_type": "code",
   "execution_count": null,
   "metadata": {},
   "outputs": [],
   "source": [
    "### Exécuter la cellule pour le rendu de 259 par force brute\n",
    "sorted(optimum(force_brute([500, 200, 100, 50, 20, 10, 5, 2, 1], 259)), key = lambda solution:solution['nombre'])[0]"
   ]
  },
  {
   "cell_type": "code",
   "execution_count": null,
   "metadata": {},
   "outputs": [],
   "source": [
    "### Exécuter la cellule pour le rendu de 259 par algo glouton\n",
    "rendu_glouton([500, 200, 100, 50, 20, 10, 5, 2, 1], 259)"
   ]
  },
  {
   "cell_type": "code",
   "execution_count": null,
   "metadata": {},
   "outputs": [],
   "source": [
    "### Exécuter la cellule pour le rendu de 431 par force brute\n",
    "sorted(optimum(force_brute([500, 200, 100, 50, 20, 10, 5, 2, 1], 431)), key = lambda solution:solution['nombre'])[0]"
   ]
  },
  {
   "cell_type": "code",
   "execution_count": null,
   "metadata": {},
   "outputs": [],
   "source": [
    "### Exécuter la cellule pour le rendu de 431 par algo glouton\n",
    "rendu_glouton([500, 200, 100, 50, 20, 10, 5, 2, 1], 431)"
   ]
  },
  {
   "cell_type": "markdown",
   "metadata": {},
   "source": [
    "Que constate-t-on ?"
   ]
  }
 ],
 "metadata": {
  "kernelspec": {
   "display_name": "Python 3",
   "language": "python",
   "name": "python3"
  },
  "language_info": {
   "codemirror_mode": {
    "name": "ipython",
    "version": 3
   },
   "file_extension": ".py",
   "mimetype": "text/x-python",
   "name": "python",
   "nbconvert_exporter": "python",
   "pygments_lexer": "ipython3",
   "version": "3.6.9"
  }
 },
 "nbformat": 4,
 "nbformat_minor": 4
}
