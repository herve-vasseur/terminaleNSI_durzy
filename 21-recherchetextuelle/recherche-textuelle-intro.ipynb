{
 "cells": [
  {
   "cell_type": "markdown",
   "metadata": {},
   "source": [
    "<div class = \"alert alert-success\">\n",
    "\n",
    "# Problématique\n",
    "\n",
    "On dispose d'un texte, sous forme d'une variable de type string, dans lequel on cherche la présence d'un motif (une chaîne de caractères aussi), ainsi que sa position.\n",
    "\n",
    "On peut alors facilement prolonger pour compter le nombre d'occurences de motif dans le texte.\n",
    "    \n",
    "Il s'agit par exemple de chercher dans un brin d'ADN la présence du code qui permet la fabrication d'une protéine particulière.\n",
    "\n",
    "Cette fonction existe déjà en Python. Il s'agira pour nous de travailler sur certaines notions algorithmiques. Nous allons d'abord envisager la chose sous la forme d'un algorithme \"naif\", puis nous étudierons l'algorithme de Boyer-Moore, dans une version simplifiée due à Horspool.\n",
    "</div>\n",
    "<div class = \"alert alert-info\">\n",
    "\n",
    "### Point d'histoire\n",
    "\n",
    "Robert S. Boyer et J Strother Moore étaient professeurs à l'université du Texas à Austin, en informatique et mathématiques. Ils ont conçu leur algorithme de recherche textuelle en 1977. Ils ont par ailleurs collaboré sur un programme de démontration automatique (Boyer-Moore Theorem Prover ou Nqthm - 1992)<br/>\n",
    "Son algorithme de recherche textuelle date de 1980.\n",
    "</div>\n",
    "\n",
    "# Approche naïve\n",
    "\n",
    "### Notation\n",
    "\n",
    "Pour la suite le texte dans lequel on effectue la recherche est identifié par la variable `texte` et le motif cherché par la variable `motif`.<br>\n",
    "On note `n` la longueur de `texte` et `p` celle de `motif`.<br>\n",
    "On a évidemment $n \\geqslant p$.<br>\n",
    "On note `i` l'indice de la position de `texte` où on cherche `motif` et `j` l'indice du caractère qu'on compare.\n",
    "\n",
    "### Principe\n",
    "\n",
    "Prenons `texte = \"abracadabra\"` et `motif = \"dab\"`. Donc `n = 11` et `p = 3`.<br>\n",
    "Le principe consiste à déplacer une fenêtre de longueur 3 dans `texte`, de gauche à droite depuis l'indice `i=0` jusqu'à l'indice `i=8` et dans chaque fenêtre de comparer les caractères un par un.<br>\n",
    "En cas de défaut de correspondance, on déplace la fenêtre d'un caractère vers la droite.<br>\n",
    "En cas de correspondance, on a trouvé une occurence de `motif` à la position `i`.\n",
    "\n",
    "`i=0`\n",
    "\n",
    "    i      0 1 2 3 4 5 6 7 8 9 10\n",
    "    texte |a b r|a c a d a b r a\n",
    "    motif |d a b|\n",
    "    j      0 1 2\n",
    "\n",
    "pas de correspondance -> `i=1`\n",
    "\n",
    "    i      0 1 2 3 4 5 6 7 8 9 10\n",
    "    texte  a|b r a|c a d a b r a\n",
    "    motif   |d a b|\n",
    "    j        0 1 2\n",
    "\n",
    "pas de correspondance -> `i=2` ... `i=6`\n",
    "\n",
    "    i      0 1 2 3 4 5 6 7 8 9 10\n",
    "    texte  a b r a c a|d a b|r a\n",
    "    motif             |d a b|\n",
    "    j                  0 1 2\n",
    "\n",
    "correspondance -> on a trouvé une occurence à `i=6`\n",
    "\n",
    "<div class = \"alert alert-warning\">\n",
    "\n",
    "### Exercice 1.1\n",
    "\n",
    "Nous allons coder cette approche naîve en utilisant deux fonctions.\n",
    "\n",
    "Première fonction :\n",
    "</div>"
   ]
  },
  {
   "cell_type": "code",
   "execution_count": null,
   "metadata": {},
   "outputs": [],
   "source": [
    "def correspondance(texte, motif, i, p):\n",
    "    \"\"\" fonction qui compare les caractères de texte de l'indice i à i+p-1\n",
    "        avec ceux du motif de l'indice 0 à l'indice p-1\n",
    "        renvoie ok un booléen qui vaut\n",
    "            True si tous les caractères correspondent\n",
    "            False si au moins une paire de caractères sont différents\n",
    "    \"\"\"\n",
    "    pass # à compléter"
   ]
  },
  {
   "cell_type": "markdown",
   "metadata": {},
   "source": [
    "Pour tester :"
   ]
  },
  {
   "cell_type": "code",
   "execution_count": null,
   "metadata": {},
   "outputs": [],
   "source": [
    "texte = \"abracadabra\"\n",
    "motif = \"dab\"\n",
    "assert not correspondance(texte, motif, 0, len(motif))\n",
    "assert correspondance(texte, motif, 6, len(motif))"
   ]
  },
  {
   "cell_type": "markdown",
   "metadata": {},
   "source": [
    "<div class = \"alert alert-warning\">\n",
    "\n",
    "### Exercice 1.2\n",
    "\n",
    "Deuxième fonction :\n",
    "</div>"
   ]
  },
  {
   "cell_type": "code",
   "execution_count": null,
   "metadata": {},
   "outputs": [],
   "source": [
    "def cherche(texte, motif):\n",
    "    \"\"\" fonction qui parcourt texte en décalant la fenêtre de comparaison\n",
    "        de 1 vers la droite tant que le motif n'a pas été trouvé.\n",
    "        Si le motif est trouvé, renvoie l'indice de sa position.\n",
    "        Si le motif n'est pas dans le texte, renvoie -1\n",
    "    \"\"\"\n",
    "    n = len(texte)\n",
    "    p = len(motif)\n",
    "    pass # à compléter"
   ]
  },
  {
   "cell_type": "markdown",
   "metadata": {},
   "source": [
    "pour tester :"
   ]
  },
  {
   "cell_type": "code",
   "execution_count": null,
   "metadata": {},
   "outputs": [],
   "source": [
    "texte = \"abracadabra\"\n",
    "motif = \"dab\"\n",
    "assert cherche(texte, motif)==6\n",
    "motif = \"rac\"\n",
    "assert cherche(texte, motif)==2\n",
    "motif = \"bad\"\n",
    "assert cherche(texte, motif)==-1"
   ]
  },
  {
   "cell_type": "markdown",
   "metadata": {},
   "source": [
    "<div class = \"alert alert-warning\">\n",
    "\n",
    "### Exercice 1.3\n",
    "\n",
    "Pour aller plus loin\n",
    "</div>"
   ]
  },
  {
   "cell_type": "code",
   "execution_count": null,
   "metadata": {},
   "outputs": [],
   "source": [
    "def nb_occurences(texte, motif):\n",
    "    \"\"\" Fonction qui renvoie le nombre d'apparitions de motif dans texte\n",
    "        Utilise la fonction cherche précédente.\n",
    "        Si le motif a été trouvé à l'indice position,\n",
    "        cherche(texte[position+1:], motif) permet de poursuivre la recherche\n",
    "        sur le reste du texte.\n",
    "    \"\"\"\n",
    "    pass # à compléter"
   ]
  },
  {
   "cell_type": "markdown",
   "metadata": {},
   "source": [
    "Pour tester"
   ]
  },
  {
   "cell_type": "code",
   "execution_count": null,
   "metadata": {},
   "outputs": [],
   "source": [
    "texte = \"abracadabra\"\n",
    "motif = \"dab\"\n",
    "assert nb_occurences(texte, motif)==1\n",
    "motif = \"bra\"\n",
    "assert nb_occurences(texte, motif)==2\n",
    "motif = \"bad\"\n",
    "assert nb_occurences(texte, motif)==0"
   ]
  }
 ],
 "metadata": {
  "kernelspec": {
   "display_name": "Python 3",
   "language": "python",
   "name": "python3"
  },
  "language_info": {
   "codemirror_mode": {
    "name": "ipython",
    "version": 3
   },
   "file_extension": ".py",
   "mimetype": "text/x-python",
   "name": "python",
   "nbconvert_exporter": "python",
   "pygments_lexer": "ipython3",
   "version": "3.8.5"
  }
 },
 "nbformat": 4,
 "nbformat_minor": 4
}
