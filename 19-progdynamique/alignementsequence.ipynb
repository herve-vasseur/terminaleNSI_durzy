{
 "cells": [
  {
   "cell_type": "markdown",
   "metadata": {},
   "source": [
    "# Alignement de séquences\n",
    "\n",
    "\n",
    "## Description du problème\n",
    "\n",
    "Nous disposons de deux séquences ADN codées sur l'alphabet $\\Sigma=\\{A,C,G,T\\}$. Voici un exemple de séquences :\n",
    "```\n",
    "X = \"ATTGCAT\"\n",
    "Y = \"AGTCCAG\"\n",
    "```\n",
    "Un *alignement* de `X` et `Y` est une façon de les faire correspondre, en conservant l'ordre des caractères, mais en introduisant éventuellement des *trous* (représenté par le symbole \"`-`\").\n",
    "En introduisant quelques trous dans `X` et dans `Y`, nous pouvons les aligner ainsi :\n",
    "\n",
    "```\n",
    "AT-TG-CA-T\n",
    "A-GT-CCAG-\n",
    "```\n",
    "\n",
    "Le *score* d'un alignement est le nombre de trous nécessaires à l'alignement. Pour l'exemple précédent, `score(X,Y)` a pour valeur $6$. On cherche à minimiser ce score."
   ]
  },
  {
   "cell_type": "markdown",
   "metadata": {},
   "source": [
    "## Résolution du problème: une approche récursive\n",
    "\n",
    "\n",
    "Comme première approche, on voudrait résoudre le problème *récursivement*.\n",
    "Notons `AlignerRec(X,Y,i,j)` la fonction qui attend en paramètre:\n",
    "- les séquences `X` et `Y`;\n",
    "- un entier `i` compris entre $0$ et $len(X)$;\n",
    "- un entier `j` compris entre $0$ et $len(Y)$.\n",
    "\n",
    "La fonction `AlignerRec` doit retourner la valeur minimum du score si on se restreint aux `i` premiers caractères de `X` et aux `j` premiers caractères de `Y`.\n",
    "\n",
    "**Attention:** Comme toute chaîne de caractères en Python, les caractères de `X` et de `Y` sont indicés de `0` à `len(X)-1` (respectivement, `len(Y)-1`).\n",
    "\n",
    "**Attention 2:** Nous parcourons donc les chaînes de la droite vers la gauche.\n",
    "\n",
    "Pour écrire cette fonction, intéressez-vous aux questions suivantes :\n",
    "1. Que devrait retourner `AlignerRec(X,Y,i,j)` lorsque `i = 0` ou lorsque `j = 0` ?\n",
    "2. Si on suppose `i > 0` et `j > 0`, établir la valeur qui devrait être retournée. Pour calculer cette valeur, des appels récursifs à `AlignerRec` sont certainement nécessaires, mais :\n",
    "    - quelle condition doit-on vérifier d'abord ?\n",
    "    - avec quels paramètres pour `i` et pour `j` lors de ces appels ?\n",
    "\n",
    "<div class=\"alert alert-info\">\n",
    "\n",
    "Exemple :\n",
    "\n",
    "X = \"ATTGCAT\"<br/>\n",
    "Y = \"AGTCCAG\"\n",
    "\n",
    "On appelle AlignerRec(X,Y,len(X),len(Y)) donc i=7 et j=7.<br/>\n",
    "On compare X[i-1]=\"T\" et Y[j-1]=\"G\" : comme ce n'est pas le même caractère, il faut mettre un trou soit dans X soit dans Y.<br/>\n",
    "Si on met un trou dans X, en vis-à-vis de Y[j-1]=\"G\" on chercher alors à aligner suivant une solution optimale la configuration suivante :\n",
    "\n",
    "X' = \"ATTGCAT\"<br/>\n",
    "Y' = \"AGTCCA\"<br/>\n",
    "Soit AlignerRec(X,Y,i,j-1)\n",
    "\n",
    "Si on met un trou dans Y, en vis-à-vis de X[i-1]=\"T\" on chercher alors à aligner suivant une solution optimale la configuration suivante :\n",
    "\n",
    "X' = \"ATTGCA\"<br/>\n",
    "Y' = \"AGTCCAG\"<br/>\n",
    "Soit AlignerRec(X,Y,i-1,j)\n",
    "\n",
    "Supposons qu'on ait appelé AlignerRec(X,Y,6,6) donc i=6 et j=6.<br/>\n",
    "On compare X[i-1]=\"A\" et Y[j-1]=\"A\" : comme c'est le même caractère, il ne faut pas mettre de trou ni dans X ni dans Y.<br/>\n",
    "On chercher alors à aligner suivant une solution optimale la configuration suivante :\n",
    "\n",
    "X' = \"ATTGC\"<br/>\n",
    "Y' = \"AGTCC\"<br/>\n",
    "Soit AlignerRec(X,Y,i-1,j-1)\n",
    "</div>\n",
    "<div class=\"alert alert-danger\" role=\"alert\">\n",
    "Une fois ces questions en tête, écrivez en Python la fonction AlignerRec. Un appel à AlignerRec(X,Y,len(X),len(Y)) devrait retourner une solution optimale au problème.\n",
    "Pour l'instance précédente, nous obtenons 6. Et vous, qu'obtenez-vous ?\n",
    "</div>"
   ]
  },
  {
   "cell_type": "code",
   "execution_count": 1,
   "metadata": {},
   "outputs": [
    {
     "data": {
      "text/plain": [
       "6"
      ]
     },
     "execution_count": 1,
     "metadata": {},
     "output_type": "execute_result"
    }
   ],
   "source": [
    "def AlignerRec(X,Y,i,j):\n",
    "    if i==0 or j==0:\n",
    "        return i + j # à compléter\n",
    "    else:\n",
    "        if X[i-1]!=Y[j-1]:\n",
    "            return min(AlignerRec(X,Y,i,j-1),AlignerRec(X,Y,i-1,j)) +1\n",
    "        else:\n",
    "            return AlignerRec(X,Y,i-1,j-1)\n",
    "\n",
    "X = \"ATTGCAT\"\n",
    "Y = \"AGTCCAG\"\n",
    "AlignerRec(X,Y,len(X),len(Y))"
   ]
  },
  {
   "cell_type": "markdown",
   "metadata": {},
   "source": [
    "Testez votre fonction sur les séquences suivantes :"
   ]
  },
  {
   "cell_type": "code",
   "execution_count": 2,
   "metadata": {},
   "outputs": [
    {
     "data": {
      "text/plain": [
       "5"
      ]
     },
     "execution_count": 2,
     "metadata": {},
     "output_type": "execute_result"
    }
   ],
   "source": [
    "X = \"RESSORT\"\n",
    "Y = \"ESPRIT\"\n",
    "\n",
    "AlignerRec(X,Y,len(X),len(Y))"
   ]
  },
  {
   "cell_type": "code",
   "execution_count": 4,
   "metadata": {},
   "outputs": [
    {
     "data": {
      "text/plain": [
       "12"
      ]
     },
     "execution_count": 4,
     "metadata": {},
     "output_type": "execute_result"
    }
   ],
   "source": [
    "# Soyez patient\n",
    "X = \"TTCACCAGAAAAGTTAGTTAAACCG\"\n",
    "Y = \"TTCACGAAAAGTCGAGCCGAG\"\n",
    "\n",
    "AlignerRec(X,Y,len(X),len(Y))"
   ]
  },
  {
   "cell_type": "markdown",
   "metadata": {},
   "source": [
    "La version récursive calcule une solution correcte au problème, mais elle souffre de lenteur car un même sous-problème peut être plusieurs fois résolus. Cela se traduit par de multiples appels à `AlignerRec` avec des paramètres identiques.\n",
    "\n",
    "<div class=\"alert alert-danger\" role=\"alert\">\n",
    "Modifiez votre fonction AlignerRec pour qu'elle compte le nombre de fois qu'elle s'exécute avec les paramètres $i=3$ et $j=3$ lorsqu'elle est appelée sur les paramètres X, Y, len(X) et len(Y) de l'instance donnée en exemple.<br/>\n",
    "Remarquons que les deux paramètres X et Y ne sont jamais modifiés lors des appels récursifs.<br/>\n",
    "Nous appelons AlignerRecCpt cette nouvelle fonction modifiée.\n",
    "</div>"
   ]
  },
  {
   "cell_type": "code",
   "execution_count": 5,
   "metadata": {},
   "outputs": [
    {
     "name": "stdout",
     "output_type": "stream",
     "text": [
      "4146623\n"
     ]
    }
   ],
   "source": [
    "cpt = 0\n",
    "def AlignerRecCpt(X,Y,i,j):\n",
    "    global cpt\n",
    "    if i==3 and j==3:\n",
    "        cpt = cpt + 1\n",
    "\n",
    "    # ci-dessous le code de votre fonction AlignerRec, où les appels récursifs\n",
    "    # à AlignerRec sont remplacés par des appels à AlignerRecCpt\n",
    "    if i==0 or j==0:\n",
    "        return i + j # à compléter\n",
    "    else:\n",
    "        if X[i-1]!=Y[j-1]:\n",
    "            return min(AlignerRecCpt(X,Y,i,j-1),AlignerRecCpt(X,Y,i-1,j)) +1\n",
    "        else:\n",
    "            return AlignerRecCpt(X,Y,i-1,j-1)\n",
    "    \n",
    "\n",
    "AlignerRecCpt(X,Y,len(X),len(Y))\n",
    "print(cpt)"
   ]
  },
  {
   "cell_type": "markdown",
   "metadata": {},
   "source": [
    "## Résolution du problème: une approche en programmation dynamique\n",
    "\n",
    "Afin de ne pas recalculer plusieurs fois la solution à un même sous-problèmes, on propose d'utiliser et de compléter un tableau `score` à deux dimension, où `score[i][j]` (pour $ 0 \\leq i \\leq len(X)$ et $0 \\leq j \\leq len(Y)$). Ce tableau stocke la valeur minimum du score qu'il est possible d’obtenir si l'on se restreint aux $i$ premiers caractères de `X`  et aux $j$ premiers caractères de `Y`.\n",
    "\n",
    "D'autre part, nous allons laisser de côté l'aspect récursif et coder une fonction itérative.\n",
    "\n",
    "Voici quelques questions à se poser :\n",
    "\n",
    "1. Quelle valeur devrait être stockée dans `score[i][j]` lorsque $i = 0$ ou lorsque $j=0$ ?\n",
    "2. Supposons maintenant que `i > 0` et `j > 0`. Établir une formule (de récurrence) qui donne la valeur de `score[i][j]` en fonction de $X$, de $Y$ et de `score[i'][j']` pour des valeurs plus petites de $i'$ et/ou de $j'$ ?\n",
    "\n",
    "\n",
    "<div class=\"alert alert-danger\" role=\"alert\">\n",
    "Écrire une fonction qui prend en entrée `X`, `Y`, puis qui retourne la valeur minimum du score qu’il est possible d’obtenir. Pour mettre au point votre fonction, vous pouvez vérifier que le résultat est le même que celui de la fonction récursive préalablement programmée.\n",
    "</div>"
   ]
  },
  {
   "cell_type": "code",
   "execution_count": null,
   "metadata": {},
   "outputs": [],
   "source": [
    "def Aligner(X,Y):\n",
    "    score = # initialiser le tableau score --> définition en compréhension\n",
    "    # traiter ici les cas score[0][j] (i=0)\n",
    "    \n",
    "    # traiter ici les cas score[i][0] (j=0)\n",
    "    \n",
    "    # traiter ici le cas \"général\" (i!=0 et j!=0)\n",
    "    \n",
    "    return score[len(X)][len(Y)]\n",
    "\n",
    "Aligner(X, Y)"
   ]
  },
  {
   "cell_type": "markdown",
   "metadata": {},
   "source": [
    "<div class=\"alert alert-danger\" role=\"alert\">\n",
    "Évaluer le temps d’exécution de l'algorithme correspondant à votre fonction Aligner.\n",
    "</div>"
   ]
  },
  {
   "cell_type": "markdown",
   "metadata": {},
   "source": [
    "<div class=\"alert alert-danger\" role=\"alert\">\n",
    "Écrivez une fonction AlignerSolution, qui reprend le code de votre fonction Aligner mais qui retourne également un alignement avec des trous (et non seulement la valeur du score).\n",
    "</div>\n",
    "\n",
    "Par exemple, pour les séquences `RESSORT` et `ESPRIT`, nous pourrions avoir comme résultat :\n",
    "```\n",
    "RES-SOR-T\n",
    "-ESP--RIT\n",
    "```\n",
    "*Remarque:* Plusieurs solutions sont possibles, donnant un même score minimum. Votre fonction pourrait donc avoir une sortie différente de celle de cet exemple."
   ]
  },
  {
   "cell_type": "code",
   "execution_count": 6,
   "metadata": {},
   "outputs": [
    {
     "data": {
      "text/plain": [
       "(26,\n",
       " 'TTCACCAGAAAAGA--ACACGGTAGTTA-CGAG--TCCAATATT-GTTAA---ACC--G',\n",
       " 'TTCA-C-GAAAA-AGTA-ACGG--G---CCGA-TCTCCAATA--AG-T--GCGACCGAG')"
      ]
     },
     "execution_count": 6,
     "metadata": {},
     "output_type": "execute_result"
    }
   ],
   "source": [
    "def AlignerSolution(X,Y):\n",
    "    pass # à faire\n",
    "\n",
    "X = \"TTCACCAGAAAAGAACACGGTAGTTACGAGTCCAATATTGTTAAACCG\"\n",
    "Y = \"TTCACGAAAAAGTAACGGGCCGATCTCCAATAAGTGCGACCGAG\"\n",
    "AlignerSolution(X, Y)"
   ]
  }
 ],
 "metadata": {
  "kernelspec": {
   "display_name": "Python 3",
   "language": "python",
   "name": "python3"
  },
  "language_info": {
   "codemirror_mode": {
    "name": "ipython",
    "version": 3
   },
   "file_extension": ".py",
   "mimetype": "text/x-python",
   "name": "python",
   "nbconvert_exporter": "python",
   "pygments_lexer": "ipython3",
   "version": "3.8.5"
  }
 },
 "nbformat": 4,
 "nbformat_minor": 2
}
