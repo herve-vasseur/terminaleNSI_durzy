{
 "cells": [
  {
   "cell_type": "markdown",
   "metadata": {},
   "source": [
    "# Problème du rendu de monnaie\n",
    "\n",
    "## Énoncé du problème.\n",
    "\n",
    "On dispose d'un nombre illimité de pièces (ou billets) dans un système comportant des pièces de valeur 1, 2, 5, 10, 20, 50, 100, 200 et 500 euros.\n",
    "\n",
    "    systeme_monnaie = [1, 2, 5, 10, 20, 50, 100, 200, 500]\n",
    "\n",
    "Il s'agit de rendre une somme en utilisant le moins de pièces possible.\n",
    "\n",
    "## Stratégie gloutonne.\n",
    "\n",
    "Nous avons déjà vu la stratégie gloutonne, qui consiste à prendre la pièce de valeur la plus grande possible à chaque étape, jusqu'à ce que la somme à rendre soit 0.\n",
    "\n",
    "Voici l'algorithme que nous avons écrit :"
   ]
  },
  {
   "cell_type": "code",
   "execution_count": null,
   "metadata": {},
   "outputs": [],
   "source": [
    "def rendu_glouton(systeme_monnaie, somme):\n",
    "    ''' algorithme glouton pour le rendu de monnaie\n",
    "        systeme_monnaie est le tableau des valeurs de pièces disponibles,\n",
    "        classé dans l'ordre croissant\n",
    "        somme est la somme à rendre\n",
    "        renvoie une liste des pièces rendues ou None si le rendu est impossible\n",
    "    '''\n",
    "    liste_rendu = []\n",
    "    indice_piece = len(systeme_monnaie)-1\n",
    "    \n",
    "    while somme > 0 and indice_piece>-1:\n",
    "        piece = systeme_monnaie[indice_piece]\n",
    "        if piece <= somme:\n",
    "            liste_rendu.append(piece)\n",
    "            somme = somme - piece\n",
    "        else:\n",
    "            indice_piece = indice_piece - 1\n",
    "    if somme>0:\n",
    "        return None\n",
    "    return liste_rendu"
   ]
  },
  {
   "cell_type": "code",
   "execution_count": null,
   "metadata": {},
   "outputs": [],
   "source": [
    "systeme = [1, 2, 5, 10, 20, 50, 100, 200, 500]\n",
    "\n",
    "rendu_glouton(systeme, 259)"
   ]
  },
  {
   "cell_type": "markdown",
   "metadata": {},
   "source": [
    "## Programmation dynamique\n",
    "\n",
    "#### Mise en place d'un algorithme récursif.\n",
    "\n",
    "L'algorithme prend en paramètres le système monétaire et la somme à rendre.\n",
    "\n",
    "Il doit renvoyer un tableau avec les valeurs des pièces à rendre.\n",
    "\n",
    "Pour l'algorithme récursif, nous devons définir :\n",
    "* le cas d'arrêt. Si le somme à rendre est 0, de quoi est constitué le tableau des pièces à rendre.\n",
    "* sinon, on parcours les différentes valeurs disponibles.\n",
    "    - Si elle est inférieure à la somme à rendre, on fait un appel récursif. On compare le résultat obtenu (sans oublier d'ajouter la valeur) avec la version optimale actuelle. Si il est meilleur, cela devient la nouvelle version optimale.\n",
    "    - Sinon, on ne fait rien."
   ]
  },
  {
   "cell_type": "code",
   "execution_count": null,
   "metadata": {},
   "outputs": [],
   "source": [
    "from math import inf        # objet modélisation la notion de +infini\n",
    "\n",
    "def rendu_recur(systeme_monnaie, somme):\n",
    "    \"\"\" algorithme récursif qui teste toutes les possibilités\n",
    "        systeme_monnaie est le tableau des valeurs de pièces disponibles,\n",
    "        classé dans l'ordre croissant\n",
    "        somme est la somme à rendre\n",
    "        Cette fonction récursive renvoie un tableau des pièces rendues\n",
    "        en ne retenant que la solution minimale\n",
    "    \"\"\"\n",
    "    if somme == 0:\n",
    "        return # à compléter\n",
    "    mini = inf # nombre de pièces dans la solution minimale - infini au début\n",
    "    comb = [] # combinaison de pièces à utiliser - vide au début\n",
    "    for piece in systeme_monnaie:\n",
    "        if piece<=somme:\n",
    "            compo = # aller chercher la composition du rendu de somme-piece\n",
    "            if # condition pour voir si c'est mieux\n",
    "                # changer la valeur de mini et la valeur de comb\n",
    "    return comb"
   ]
  },
  {
   "cell_type": "markdown",
   "metadata": {},
   "source": [
    "Tester ; c'est un peu long..."
   ]
  },
  {
   "cell_type": "code",
   "execution_count": null,
   "metadata": {},
   "outputs": [],
   "source": [
    "rendu_recur(systeme,87)"
   ]
  },
  {
   "cell_type": "markdown",
   "metadata": {},
   "source": [
    "#### Ajout de la mémoïsation\n",
    "\n",
    "On va utiliser ici une table de tableaux (ce n'est pas la seule possibilité).\n",
    "\n",
    "Pour chaque valeur entre 0 et la somme à rendre, le table contiendra :\n",
    "- la solution optimale de rendu de monnaie, si on a déjà traité le cas.\n",
    "- None sinon"
   ]
  },
  {
   "cell_type": "code",
   "execution_count": null,
   "metadata": {},
   "outputs": [],
   "source": [
    "def rendu_memoise(systeme_monnaie, somme):\n",
    "    \"\"\" algorithme récursif qui teste toutes les possibilités\n",
    "        systeme_monnaie est le tableau des valeurs de pièces disponibles,\n",
    "        classé dans l'ordre croissant\n",
    "        somme est la somme à rendre\n",
    "        Cette fonction récursive renvoie le nombre des pièces rendues\n",
    "        en ne retenant que la solution minimale\n",
    "    \"\"\"\n",
    "    memoire = # création d'un table de taille somme+1 ne contenant que None\n",
    "    memoire[0] =  # cas où il faut rendre 0, quel est le tableau des pièces à rendre\n",
    "    for valeur # pour chaque valeur à rendre non nulle\n",
    "        for piece in systeme_monnaie:\n",
    "            if piece<=valeur:\n",
    "                if # le cas n'a pas encore été traité, c'est la 1ère solution trouvée\n",
    "                    memoire[valeur] = memoire[valeur-piece]+[piece]\n",
    "                elif # cas déjà abordé : la solution avec pièce est-elle meilleure ?\n",
    "                    memoire[valeur] = #  Si oui, on actualise.\n",
    "    return # la solution pour rendre somme"
   ]
  },
  {
   "cell_type": "code",
   "execution_count": null,
   "metadata": {},
   "outputs": [],
   "source": [
    "rendu_memoise(systeme,259)"
   ]
  }
 ],
 "metadata": {
  "kernelspec": {
   "display_name": "Python 3",
   "language": "python",
   "name": "python3"
  },
  "language_info": {
   "codemirror_mode": {
    "name": "ipython",
    "version": 3
   },
   "file_extension": ".py",
   "mimetype": "text/x-python",
   "name": "python",
   "nbconvert_exporter": "python",
   "pygments_lexer": "ipython3",
   "version": "3.8.5"
  }
 },
 "nbformat": 4,
 "nbformat_minor": 4
}
