{
 "cells": [
  {
   "cell_type": "markdown",
   "metadata": {},
   "source": [
    "## Problématique\n",
    "\n",
    "Nous souhaitons écrire une fonction récursive qui calcule le $n^{ième}$ terme de la suite de Fibonacci.\n",
    "<div class = \"alert alert-info\">\n",
    "\n",
    "### Rappel\n",
    "    \n",
    "La suite de Fibonacci est définie par :\n",
    "    \n",
    "- $u_0 = 0$\n",
    "- $u_1 = 1$\n",
    "- $\\forall n \\geqslant 2, u_n = u_{n-1} + u_{n-2}$\n",
    "</div>\n",
    "\n",
    "Compléter cette fonction :"
   ]
  },
  {
   "cell_type": "code",
   "execution_count": null,
   "metadata": {},
   "outputs": [],
   "source": [
    "def fib_recur(n):\n",
    "    if n<=1: #cas initiaux\n",
    "        return #à completer\n",
    "    else: #appel récursif\n",
    "        return #à compléter"
   ]
  },
  {
   "cell_type": "markdown",
   "metadata": {},
   "source": [
    "Testons cette fonction ; exécuter la cellule suivante."
   ]
  },
  {
   "cell_type": "code",
   "execution_count": null,
   "metadata": {},
   "outputs": [],
   "source": [
    "# Tester la fonction :\n",
    "assert fib_recur(0)==0\n",
    "assert fib_recur(1)==1\n",
    "assert fib_recur(2)==1\n",
    "assert fib_recur(10)==55"
   ]
  },
  {
   "cell_type": "markdown",
   "metadata": {},
   "source": [
    "Exécutons maintenant la fonction pour trouver le terme d'indice 40 de la suite.\n",
    "\n",
    "Que constate-t-on ?"
   ]
  },
  {
   "cell_type": "code",
   "execution_count": null,
   "metadata": {},
   "outputs": [],
   "source": [
    "fib_recur(40)"
   ]
  },
  {
   "cell_type": "markdown",
   "metadata": {},
   "source": [
    "Le temps de calcul est très long.\n",
    "\n",
    "Essayons de comprendre avec fib_recur(10), en construisant l'arbre des appels.\n",
    "\n",
    "Pour faire ce calcul, nous avons fait appel à fib_recur(9) et à fib_recur(8).<br/>\n",
    "Mais pour fib_recur(9), nous calculons fib_recur(8) et fib_recur(7).\n",
    "\n",
    "Voir l'arbre des appels dans Pearltrees :\n",
    "\n",
    "<img src='https://www.pearltrees.com/private/id41416391/item363555097?paccess=18075965d34.15ab6919.7764a2408f7cbd2770cfb064c286e1e4'\n",
    "\n",
    "On s'aperçoit que fib_recur(4) a été calculé 13 fois et fib_recur(2) a été calculé 34 fois pour obtenir le résultat.\n",
    "\n",
    "Et lorsqu'on calcule fib_recur(40) voyons ce que cela donne en modifiant un peut la fonction : exécuter la cellule suivante"
   ]
  },
  {
   "cell_type": "code",
   "execution_count": null,
   "metadata": {},
   "outputs": [],
   "source": [
    "def fib_recur(n, cpt):\n",
    "    cpt[n] += 1\n",
    "    if n<=1: #cas initiaux\n",
    "        return n\n",
    "    else: #appel récursif\n",
    "        return fib_recur(n-1, cpt)+fib_recur(n-2, cpt)\n",
    "    \n",
    "compte = [0 for k in range(41)]\n",
    "\n",
    "fib_recur(40, compte)"
   ]
  },
  {
   "cell_type": "markdown",
   "metadata": {},
   "source": [
    "Combien de fois a-t-on calculé fib_recur(5) par exemple :"
   ]
  },
  {
   "cell_type": "code",
   "execution_count": null,
   "metadata": {},
   "outputs": [],
   "source": [
    "compte[5]"
   ]
  },
  {
   "cell_type": "markdown",
   "metadata": {},
   "source": [
    "## Programmation dynamique\n",
    "\n",
    "Nous allons pour éviter ce travail inutille qui coûte très cher en temps d'exécution, utiliser la programmation dynamique.\n",
    "\n",
    "Nous en avons vu une première illustration avec les parcours de graphe : l'idée était d'adapter le graphe au fur et à mesure de la progression, donc de ne pas traiter plusieurs fois le même problème.\n",
    "\n",
    "Ici aussi, il s'agit de ne pas traiter plusieurs fois le même problème et donc de na pas calculer plusieurs fois fib_recur(5) par exemple.\n",
    "<div class = \"alert alert-info\">\n",
    "\n",
    "On utilise alors ce qu'on nomme la **mémoisation**.\n",
    "\n",
    "On peut travailler avec un tableau ou un dictionnaire dans lequel nous allons conserver les résultats déjà obtenus.\n",
    "\n",
    "Faisons le choix d'un dictionnaire.\n",
    "\n",
    "- Pour les cas initiaux rien à changer, puisqu'il n'y a pas de calcul à faire.\n",
    "- Pour les autres cas,\n",
    "    * soit le calcul a déjà été fait et mis en mémoire dans le dictionnaire et alors on renvoie cette valeur\n",
    "    * soit le calcul n'a pas encore été fait, on complète le dictoinnaire avec l'appel récursif et on renvoie cette valeur.\n",
    "</div>\n",
    "Compléter la fonction ci-dessous :"
   ]
  },
  {
   "cell_type": "code",
   "execution_count": null,
   "metadata": {},
   "outputs": [],
   "source": [
    "def fib_memoise(n, dico):\n",
    "    if n<=1: #cas initiaux\n",
    "        return n\n",
    "    if # la valeur a déjà été calculée ; à compléter\n",
    "    \n",
    "    else:# la valeur n'a pas encore été calculée ; à compléter\n",
    "    \n",
    "fib_memoise(40, {})"
   ]
  }
 ],
 "metadata": {
  "kernelspec": {
   "display_name": "Python 3",
   "language": "python",
   "name": "python3"
  },
  "language_info": {
   "codemirror_mode": {
    "name": "ipython",
    "version": 3
   },
   "file_extension": ".py",
   "mimetype": "text/x-python",
   "name": "python",
   "nbconvert_exporter": "python",
   "pygments_lexer": "ipython3",
   "version": "3.8.5"
  }
 },
 "nbformat": 4,
 "nbformat_minor": 4
}
